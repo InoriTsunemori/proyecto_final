{
 "cells": [
  {
   "cell_type": "code",
   "execution_count": 2,
   "metadata": {},
   "outputs": [],
   "source": [
    "import streamlit as st \n",
    "import pandas as pd"
   ]
  },
  {
   "cell_type": "code",
   "execution_count": 3,
   "metadata": {},
   "outputs": [],
   "source": [
    "def reverse(options,dicc):\n",
    "\n",
    "    options_reverse = {v: k for k, v in options.items()}\n",
    "    response = {key: options_reverse[value] for key, value in dicc.items()}\n",
    "\n",
    "    return response"
   ]
  },
  {
   "cell_type": "code",
   "execution_count": 4,
   "metadata": {},
   "outputs": [],
   "source": [
    "options1 = {1: 'Por debajo de la E.S.O', 2: 'E.S.O completa', 3: 'Grado universitario', 4:'Postgrado'}\n",
    "options2 = {1: 'Rural', 2: 'Pueblo mediano/grande', 3: 'Ciudad'}\n",
    "options3 = {1: 'Femenino', 2: 'Masculino', 3: 'Otro'}\n",
    "options4 = {1: 'Si', 2: 'No'}\n",
    "options5 = {1: 'Diestro', 2: 'Zurdo', 3: 'Ambidiestro'}\n",
    "options6 = {1: 'Agnóstico', 2: 'Ateo', 3: 'Budista', 4: 'Cristiano católico', 5: 'Cristiano mormón', 6: 'Cristiano Protestante', 7: 'Otro tipo de cristianismo', 8: 'Hindú', 9: 'Judío', 10: 'Musulmán', 11: 'Sikh', 12: 'Otro'}\n",
    "options7 = {1: 'Heterosexual', 2:'Bisexual', 3: 'Homosexual', 4: 'Asexual', 5: 'Otros'}\n",
    "options8 = {1: 'Asiático', 2: 'Árabe', 3: 'Negro', 4: 'Indígena Australiano', 5: 'Nativo Americano', 6: 'Caucásico', 0: 'Otro'}\n",
    "options9 = {1: 'Soltero', 2: 'Casado', 3: 'Divorciado'}\n",
    "options10 = {1: 'Ciencias', 2: 'Ciencias de la salud', 3: 'Empresariales', 4: 'Ingeniería', 5: 'Humanidades y letras', 6: 'Arte', 7: 'Tecnología', 8: 'IT', 9: 'Turismo', 10: 'Otros'}\n",
    "\n"
   ]
  },
  {
   "cell_type": "code",
   "execution_count": 5,
   "metadata": {},
   "outputs": [
    {
     "name": "stderr",
     "output_type": "stream",
     "text": [
      "2024-07-30 17:11:02.246 WARNING streamlit.runtime.state.session_state_proxy: Session state does not function when running a script without `streamlit run`\n",
      "2024-07-30 17:11:02.664 \n",
      "  \u001b[33m\u001b[1mWarning:\u001b[0m to view this Streamlit app on a browser, run it with the following\n",
      "  command:\n",
      "\n",
      "    streamlit run C:\\Users\\BORJA\\AppData\\Roaming\\Python\\Python312\\site-packages\\ipykernel_launcher.py [ARGUMENTS]\n"
     ]
    }
   ],
   "source": [
    "dmg = {\n",
    "        \"education\": st.selectbox(\"¿Qué nivel educacional tienes completo?\",options=options1.values()),\n",
    "        \"urban\": st.selectbox(\"¿En qué tipo de area te criaste de pequeño?\", options=options2.values()),\n",
    "        \"gender\": st.selectbox(\"¿Con qué género te identificas?\", options=options3.values()),\n",
    "        \"engant\": st.selectbox(\"¿Eres hablante de inglés nativo?\", options=options4.values()),\n",
    "        \"age\": st.slider(\"Por favor, indique su edad:\", min_value=18, max_value=100, value=25, step=1),\n",
    "        \"hand\": st.selectbox(\"¿Cual es tu mano predominante?\", options=options5.values()),\n",
    "        \"religion\": st.selectbox(\"¿Eres creyente?\", options=options6.values()),\t\t\n",
    "        \"orientation\": st.selectbox('¿Cual es tu orientación sexual?', options=options7.values()),\n",
    "        \"race\": st.selectbox(\"¿Cual es tu origen étnico?\", options=options8.values()),\n",
    "        \"voted\": st.selectbox(\"¿Has votado en las últimas elecciones?\", options=options4.values()),\n",
    "        \"married\": st.selectbox(\"¿Cual es tu estado civil?\", options=options9.values()),\n",
    "        \"familiysize\": st.slider(\"Incluyéndote a ti mismo, ¿cuántos hijos tuvo tu madre?\", min_value=1, max_value=15, value=1, step=1),\n",
    "        \"major\": st.selectbox(\"Si has terminado una carrera universitaria, ¿Cuál fué tu rama? (por ejemplo: Psicología, Ingeniería, Historia, Medicina...)\", options=options10.values())}\n",
    "    "
   ]
  },
  {
   "cell_type": "code",
   "execution_count": 6,
   "metadata": {},
   "outputs": [],
   "source": [
    "options_ = [options1, options2, options3, options4, options5, options6, options7, options8, options9, options10]"
   ]
  },
  {
   "cell_type": "code",
   "execution_count": 8,
   "metadata": {},
   "outputs": [
    {
     "data": {
      "text/plain": [
       "dict"
      ]
     },
     "execution_count": 8,
     "metadata": {},
     "output_type": "execute_result"
    }
   ],
   "source": [
    "type(dmg)"
   ]
  },
  {
   "cell_type": "code",
   "execution_count": 26,
   "metadata": {},
   "outputs": [
    {
     "data": {
      "text/plain": [
       "dict_values(['Por debajo de la E.S.O', 'Rural', 'Femenino', 'Si', 25, 'Diestro', 'Agnóstico', 'Heterosexual', 'Asiático', 'Si', 'Soltero', 1, 'Ciencias'])"
      ]
     },
     "execution_count": 26,
     "metadata": {},
     "output_type": "execute_result"
    }
   ],
   "source": [
    "dmg.values()"
   ]
  },
  {
   "cell_type": "code",
   "execution_count": 25,
   "metadata": {},
   "outputs": [
    {
     "data": {
      "text/plain": [
       "'Asiático'"
      ]
     },
     "execution_count": 25,
     "metadata": {},
     "output_type": "execute_result"
    }
   ],
   "source": []
  },
  {
   "cell_type": "code",
   "execution_count": 11,
   "metadata": {},
   "outputs": [
    {
     "data": {
      "text/plain": [
       "['education',\n",
       " 'urban',\n",
       " 'gender',\n",
       " 'engant',\n",
       " 'age',\n",
       " 'hand',\n",
       " 'religion',\n",
       " 'orientation',\n",
       " 'race',\n",
       " 'voted',\n",
       " 'married',\n",
       " 'familiysize',\n",
       " 'major']"
      ]
     },
     "execution_count": 11,
     "metadata": {},
     "output_type": "execute_result"
    }
   ],
   "source": [
    "keys=[]\n",
    "for key in dmg:\n",
    "    keys.append(key)\n",
    "keys"
   ]
  },
  {
   "cell_type": "code",
   "execution_count": 31,
   "metadata": {},
   "outputs": [
    {
     "name": "stdout",
     "output_type": "stream",
     "text": [
      "Por debajo de la E.S.O\n"
     ]
    }
   ],
   "source": [
    "print(dmg[f'{keys[0]}'])"
   ]
  },
  {
   "cell_type": "code",
   "execution_count": 32,
   "metadata": {},
   "outputs": [
    {
     "ename": "AttributeError",
     "evalue": "'str' object has no attribute 'items'",
     "output_type": "error",
     "traceback": [
      "\u001b[1;31m---------------------------------------------------------------------------\u001b[0m",
      "\u001b[1;31mAttributeError\u001b[0m                            Traceback (most recent call last)",
      "Cell \u001b[1;32mIn[32], line 1\u001b[0m\n\u001b[1;32m----> 1\u001b[0m \u001b[43mreverse\u001b[49m\u001b[43m(\u001b[49m\u001b[43moptions1\u001b[49m\u001b[43m,\u001b[49m\u001b[43m \u001b[49m\u001b[43m(\u001b[49m\u001b[43mdmg\u001b[49m\u001b[43m[\u001b[49m\u001b[38;5;124;43mf\u001b[39;49m\u001b[38;5;124;43m'\u001b[39;49m\u001b[38;5;132;43;01m{\u001b[39;49;00m\u001b[43mkeys\u001b[49m\u001b[43m[\u001b[49m\u001b[38;5;241;43m0\u001b[39;49m\u001b[43m]\u001b[49m\u001b[38;5;132;43;01m}\u001b[39;49;00m\u001b[38;5;124;43m'\u001b[39;49m\u001b[43m]\u001b[49m\u001b[43m)\u001b[49m\u001b[43m)\u001b[49m\n",
      "Cell \u001b[1;32mIn[3], line 4\u001b[0m, in \u001b[0;36mreverse\u001b[1;34m(options, dicc)\u001b[0m\n\u001b[0;32m      1\u001b[0m \u001b[38;5;28;01mdef\u001b[39;00m \u001b[38;5;21mreverse\u001b[39m(options,dicc):\n\u001b[0;32m      3\u001b[0m     options_reverse \u001b[38;5;241m=\u001b[39m {v: k \u001b[38;5;28;01mfor\u001b[39;00m k, v \u001b[38;5;129;01min\u001b[39;00m options\u001b[38;5;241m.\u001b[39mitems()}\n\u001b[1;32m----> 4\u001b[0m     response \u001b[38;5;241m=\u001b[39m {key: options_reverse[value] \u001b[38;5;28;01mfor\u001b[39;00m key, value \u001b[38;5;129;01min\u001b[39;00m \u001b[43mdicc\u001b[49m\u001b[38;5;241;43m.\u001b[39;49m\u001b[43mitems\u001b[49m()}\n\u001b[0;32m      6\u001b[0m     \u001b[38;5;28;01mreturn\u001b[39;00m response\n",
      "\u001b[1;31mAttributeError\u001b[0m: 'str' object has no attribute 'items'"
     ]
    }
   ],
   "source": [
    "keys=[]\n",
    "for key in dmg:\n",
    "    keys.append(key)\n",
    "keys\n",
    "\n",
    "reverse(options1, (dmg[f'{keys[0]}']))"
   ]
  },
  {
   "cell_type": "code",
   "execution_count": null,
   "metadata": {},
   "outputs": [],
   "source": [
    "contador = 0\n",
    "\n",
    "# Supongamos que queremos contar hasta 10\n",
    "for i in range(10):\n",
    "    # Incrementa el contador en 1\n",
    "    contador += 1\n",
    "    print(f'Iteración {i + 1}, Contador: {contador}')"
   ]
  },
  {
   "cell_type": "code",
   "execution_count": 35,
   "metadata": {},
   "outputs": [
    {
     "data": {
      "text/plain": [
       "'Por debajo de la E.S.O'"
      ]
     },
     "execution_count": 35,
     "metadata": {},
     "output_type": "execute_result"
    }
   ],
   "source": [
    "dmg['education']"
   ]
  },
  {
   "cell_type": "code",
   "execution_count": 7,
   "metadata": {},
   "outputs": [
    {
     "ename": "KeyError",
     "evalue": "0",
     "output_type": "error",
     "traceback": [
      "\u001b[1;31m---------------------------------------------------------------------------\u001b[0m",
      "\u001b[1;31mKeyError\u001b[0m                                  Traceback (most recent call last)",
      "Cell \u001b[1;32mIn[7], line 2\u001b[0m\n\u001b[0;32m      1\u001b[0m dmg_responses\u001b[38;5;241m=\u001b[39m[]\n\u001b[1;32m----> 2\u001b[0m \u001b[38;5;28mprint\u001b[39m (reverse(options1, \u001b[43mdmg\u001b[49m\u001b[43m[\u001b[49m\u001b[38;5;241;43m0\u001b[39;49m\u001b[43m]\u001b[49m))\n\u001b[0;32m      3\u001b[0m \u001b[38;5;28;01mfor\u001b[39;00m opt \u001b[38;5;129;01min\u001b[39;00m options_: \n\u001b[0;32m      4\u001b[0m     response\u001b[38;5;241m=\u001b[39mreverse(opt, dmg)\n",
      "\u001b[1;31mKeyError\u001b[0m: 0"
     ]
    }
   ],
   "source": [
    "keys=[]\n",
    "for key in dmg:\n",
    "    keys.append(key)\n",
    "keys\n",
    "\n",
    "reverse(options1, (dmg[f'{keys[0]}']))\n",
    "\n",
    "dmg_responses=[]\n",
    "contador = 0\n",
    "for opt in options_: \n",
    "    response=reverse(opt, (dmg[f'{keys[f'{contador}']}']))\n",
    "    contador += 1\n",
    "    dmg_responses.append(response)\n",
    "\n",
    "    print('-------------------------PRINT3',dmg_responses)"
   ]
  }
 ],
 "metadata": {
  "kernelspec": {
   "display_name": "Python 3",
   "language": "python",
   "name": "python3"
  },
  "language_info": {
   "codemirror_mode": {
    "name": "ipython",
    "version": 3
   },
   "file_extension": ".py",
   "mimetype": "text/x-python",
   "name": "python",
   "nbconvert_exporter": "python",
   "pygments_lexer": "ipython3",
   "version": "3.12.4"
  }
 },
 "nbformat": 4,
 "nbformat_minor": 2
}
